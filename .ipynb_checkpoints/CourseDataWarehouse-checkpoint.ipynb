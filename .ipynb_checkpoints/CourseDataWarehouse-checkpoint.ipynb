{
 "cells": [
  {
   "cell_type": "code",
   "execution_count": 1,
   "metadata": {},
   "outputs": [
    {
     "data": {
      "text/plain": [
       "'Connected: @CourseDataWarehouse.db'"
      ]
     },
     "execution_count": 1,
     "metadata": {},
     "output_type": "execute_result"
    }
   ],
   "source": [
    "%load_ext sql\n",
    "import sqlite3\n",
    "%sql sqlite:///CourseDataWarehouse.db"
   ]
  },
  {
   "cell_type": "code",
   "execution_count": 2,
   "metadata": {},
   "outputs": [
    {
     "name": "stdout",
     "output_type": "stream",
     "text": [
      " * sqlite:///CourseDataWarehouse.db\n",
      "Done.\n"
     ]
    },
    {
     "data": {
      "text/plain": [
       "[]"
      ]
     },
     "execution_count": 2,
     "metadata": {},
     "output_type": "execute_result"
    }
   ],
   "source": [
    "%%sql\n",
    "ATTACH DATABASE 'CourseData.db' AS coursedata;"
   ]
  },
  {
   "cell_type": "markdown",
   "metadata": {},
   "source": [
    "# **Data Warehouse Design**"
   ]
  },
  {
   "cell_type": "markdown",
   "metadata": {},
   "source": [
    "### Creating ***dimention*** tables"
   ]
  },
  {
   "cell_type": "code",
   "execution_count": 3,
   "metadata": {},
   "outputs": [
    {
     "name": "stdout",
     "output_type": "stream",
     "text": [
      " * sqlite:///CourseDataWarehouse.db\n",
      "Done.\n",
      "Done.\n",
      "Done.\n",
      "Done.\n",
      "Done.\n",
      "Done.\n",
      "Done.\n",
      "Done.\n"
     ]
    },
    {
     "data": {
      "text/plain": [
       "[]"
      ]
     },
     "execution_count": 3,
     "metadata": {},
     "output_type": "execute_result"
    }
   ],
   "source": [
    "%%sql\n",
    "-- Instructor table\n",
    "DROP TABLE IF EXISTS INSTRUCTOR1;\n",
    "CREATE TABLE INSTRUCTOR1 (\n",
    "    Instructor_id INTEGER PRIMARY KEY,\n",
    "    Name TEXT NOT NULL,\n",
    "    Phone INTEGER,\n",
    "    Email TEXT\n",
    ");\n",
    "\n",
    "-- Program table\n",
    "DROP TABLE IF EXISTS PROGRAM1;\n",
    "CREATE TABLE PROGRAM1 (\n",
    "    Program_id INTEGER PRIMARY KEY,\n",
    "    Program_code TEXT NOT NULL,\n",
    "    Program_name TEXT NOT NULL\n",
    ");\n",
    "\n",
    "-- Term table\n",
    "DROP TABLE IF EXISTS TERM1;\n",
    "CREATE TABLE TERM1 (\n",
    "    Term_id INTEGER PRIMARY KEY,\n",
    "    Term TEXT NOT NULL\n",
    ");\n",
    "\n",
    "-- Location table\n",
    "DROP TABLE IF EXISTS LOCATION1;\n",
    "CREATE TABLE LOCATION1 (\n",
    "    Location_id INTEGER PRIMARY KEY,\n",
    "    Location TEXT NOT NULL\n",
    ");"
   ]
  },
  {
   "cell_type": "code",
   "execution_count": 4,
   "metadata": {},
   "outputs": [
    {
     "name": "stdout",
     "output_type": "stream",
     "text": [
      " * sqlite:///CourseDataWarehouse.db\n",
      "0 rows affected.\n",
      "1095 rows affected.\n"
     ]
    },
    {
     "data": {
      "text/plain": [
       "[]"
      ]
     },
     "execution_count": 4,
     "metadata": {},
     "output_type": "execute_result"
    }
   ],
   "source": [
    "%%sql\n",
    "DELETE FROM INSTRUCTOR1;\n",
    "INSERT INTO INSTRUCTOR1(Instructor_id, Name, Phone, Email ) \n",
    "    SELECT Instructor_id, Name, Phone, Email \n",
    "    FROM coursedata.INSTRUCTOR;"
   ]
  },
  {
   "cell_type": "markdown",
   "metadata": {},
   "source": [
    "%%sql\n",
    "PRAGMA table_info();"
   ]
  },
  {
   "cell_type": "code",
   "execution_count": 6,
   "metadata": {},
   "outputs": [
    {
     "name": "stdout",
     "output_type": "stream",
     "text": [
      " * sqlite:///CourseDataWarehouse.db\n",
      "0 rows affected.\n",
      "83 rows affected.\n"
     ]
    },
    {
     "data": {
      "text/plain": [
       "[]"
      ]
     },
     "execution_count": 6,
     "metadata": {},
     "output_type": "execute_result"
    }
   ],
   "source": [
    "%%sql\n",
    "DELETE FROM PROGRAM1;\n",
    "INSERT INTO PROGRAM1(Program_id, Program_code, Program_name) \n",
    "    SELECT Program_id, Program_code, Program_name \n",
    "    FROM coursedata.PROGRAM;"
   ]
  },
  {
   "cell_type": "code",
   "execution_count": 7,
   "metadata": {},
   "outputs": [
    {
     "name": "stdout",
     "output_type": "stream",
     "text": [
      " * sqlite:///CourseDataWarehouse.db\n",
      "0 rows affected.\n",
      "19 rows affected.\n"
     ]
    },
    {
     "data": {
      "text/plain": [
       "[]"
      ]
     },
     "execution_count": 7,
     "metadata": {},
     "output_type": "execute_result"
    }
   ],
   "source": [
    "%%sql\n",
    "DELETE FROM TERM1;\n",
    "INSERT INTO TERM1(Term) \n",
    "    SELECT DISTINCT Term \n",
    "    FROM coursedata.CLASS;"
   ]
  },
  {
   "cell_type": "code",
   "execution_count": 8,
   "metadata": {},
   "outputs": [
    {
     "name": "stdout",
     "output_type": "stream",
     "text": [
      " * sqlite:///CourseDataWarehouse.db\n",
      "0 rows affected.\n",
      "207 rows affected.\n"
     ]
    },
    {
     "data": {
      "text/plain": [
       "[]"
      ]
     },
     "execution_count": 8,
     "metadata": {},
     "output_type": "execute_result"
    }
   ],
   "source": [
    "%%sql\n",
    "DELETE FROM LOCATION1;\n",
    "INSERT INTO LOCATION1(Location_id, Location) \n",
    "SELECT Location_id, Location\n",
    "    FROM coursedata.LOCATION;"
   ]
  },
  {
   "cell_type": "markdown",
   "metadata": {},
   "source": [
    "### Creating and modifying COURSE table "
   ]
  },
  {
   "cell_type": "code",
   "execution_count": 9,
   "metadata": {},
   "outputs": [
    {
     "name": "stdout",
     "output_type": "stream",
     "text": [
      " * sqlite:///CourseDataWarehouse.db\n",
      "Done.\n",
      "Done.\n"
     ]
    },
    {
     "data": {
      "text/plain": [
       "[]"
      ]
     },
     "execution_count": 9,
     "metadata": {},
     "output_type": "execute_result"
    }
   ],
   "source": [
    "%%sql\n",
    "DROP TABLE IF EXISTS COURSE1;\n",
    "CREATE TABLE COURSE1 AS SELECT * \n",
    "    FROM coursedata.COURSE "
   ]
  },
  {
   "cell_type": "markdown",
   "metadata": {},
   "source": [
    "%%sql\n",
    "DROP TABLE IF EXISTS COURSE1;\n",
    "CREATE TABLE COURSE1 AS SELECT * \n",
    "    FROM coursedata.COURSE \n",
    "    WHERE Catalog_year = \n",
    "        (SELECT DISTINCT(Catalog_year) \n",
    "             FROM coursedata.COURSE)"
   ]
  },
  {
   "cell_type": "markdown",
   "metadata": {},
   "source": [
    "%%sql\n",
    "CREATE TABLE COURSE1 AS SELECT * \n",
    "    FROM coursedata.COURSE"
   ]
  },
  {
   "cell_type": "code",
   "execution_count": 10,
   "metadata": {},
   "outputs": [
    {
     "name": "stdout",
     "output_type": "stream",
     "text": [
      " * sqlite:///CourseDataWarehouse.db\n",
      "Done.\n"
     ]
    },
    {
     "data": {
      "text/html": [
       "<table>\n",
       "    <tr>\n",
       "        <th>cid</th>\n",
       "        <th>name</th>\n",
       "        <th>type</th>\n",
       "        <th>notnull</th>\n",
       "        <th>dflt_value</th>\n",
       "        <th>pk</th>\n",
       "    </tr>\n",
       "    <tr>\n",
       "        <td>0</td>\n",
       "        <td>Course_id</td>\n",
       "        <td>INT</td>\n",
       "        <td>0</td>\n",
       "        <td>None</td>\n",
       "        <td>0</td>\n",
       "    </tr>\n",
       "    <tr>\n",
       "        <td>1</td>\n",
       "        <td>Catalog_year</td>\n",
       "        <td>TEXT</td>\n",
       "        <td>0</td>\n",
       "        <td>None</td>\n",
       "        <td>0</td>\n",
       "    </tr>\n",
       "    <tr>\n",
       "        <td>2</td>\n",
       "        <td>Program_id</td>\n",
       "        <td>INT</td>\n",
       "        <td>0</td>\n",
       "        <td>None</td>\n",
       "        <td>0</td>\n",
       "    </tr>\n",
       "    <tr>\n",
       "        <td>3</td>\n",
       "        <td>CatalogID</td>\n",
       "        <td>TEXT</td>\n",
       "        <td>0</td>\n",
       "        <td>None</td>\n",
       "        <td>0</td>\n",
       "    </tr>\n",
       "    <tr>\n",
       "        <td>4</td>\n",
       "        <td>Course_title</td>\n",
       "        <td>TEXT</td>\n",
       "        <td>0</td>\n",
       "        <td>None</td>\n",
       "        <td>0</td>\n",
       "    </tr>\n",
       "    <tr>\n",
       "        <td>5</td>\n",
       "        <td>Description</td>\n",
       "        <td>TEXT</td>\n",
       "        <td>0</td>\n",
       "        <td>None</td>\n",
       "        <td>0</td>\n",
       "    </tr>\n",
       "    <tr>\n",
       "        <td>6</td>\n",
       "        <td>Credits</td>\n",
       "        <td>REAL</td>\n",
       "        <td>0</td>\n",
       "        <td>None</td>\n",
       "        <td>0</td>\n",
       "    </tr>\n",
       "    <tr>\n",
       "        <td>7</td>\n",
       "        <td>Attributes</td>\n",
       "        <td>TEXT</td>\n",
       "        <td>0</td>\n",
       "        <td>None</td>\n",
       "        <td>0</td>\n",
       "    </tr>\n",
       "    <tr>\n",
       "        <td>8</td>\n",
       "        <td>Prerequisites</td>\n",
       "        <td>TEXT</td>\n",
       "        <td>0</td>\n",
       "        <td>None</td>\n",
       "        <td>0</td>\n",
       "    </tr>\n",
       "    <tr>\n",
       "        <td>9</td>\n",
       "        <td>Corequisites</td>\n",
       "        <td>TEXT</td>\n",
       "        <td>0</td>\n",
       "        <td>None</td>\n",
       "        <td>0</td>\n",
       "    </tr>\n",
       "    <tr>\n",
       "        <td>10</td>\n",
       "        <td>Fees</td>\n",
       "        <td>TEXT</td>\n",
       "        <td>0</td>\n",
       "        <td>None</td>\n",
       "        <td>0</td>\n",
       "    </tr>\n",
       "</table>"
      ],
      "text/plain": [
       "[(0, 'Course_id', 'INT', 0, None, 0),\n",
       " (1, 'Catalog_year', 'TEXT', 0, None, 0),\n",
       " (2, 'Program_id', 'INT', 0, None, 0),\n",
       " (3, 'CatalogID', 'TEXT', 0, None, 0),\n",
       " (4, 'Course_title', 'TEXT', 0, None, 0),\n",
       " (5, 'Description', 'TEXT', 0, None, 0),\n",
       " (6, 'Credits', 'REAL', 0, None, 0),\n",
       " (7, 'Attributes', 'TEXT', 0, None, 0),\n",
       " (8, 'Prerequisites', 'TEXT', 0, None, 0),\n",
       " (9, 'Corequisites', 'TEXT', 0, None, 0),\n",
       " (10, 'Fees', 'TEXT', 0, None, 0)]"
      ]
     },
     "execution_count": 10,
     "metadata": {},
     "output_type": "execute_result"
    }
   ],
   "source": [
    "%%sql\n",
    "PRAGMA table_info(COURSE1);"
   ]
  },
  {
   "cell_type": "code",
   "execution_count": 11,
   "metadata": {},
   "outputs": [
    {
     "name": "stdout",
     "output_type": "stream",
     "text": [
      " * sqlite:///CourseDataWarehouse.db\n",
      "Done.\n",
      "Done.\n",
      "Done.\n",
      "4440 rows affected.\n",
      "Done.\n"
     ]
    },
    {
     "data": {
      "text/plain": [
       "[]"
      ]
     },
     "execution_count": 11,
     "metadata": {},
     "output_type": "execute_result"
    }
   ],
   "source": [
    "%%sql\n",
    "PRAGMA foreign_keys=off;\n",
    "\n",
    "--BEGIN TRANSACTION;\n",
    "\n",
    "ALTER TABLE COURSE1 RENAME TO COURSE1_OLD;\n",
    "\n",
    "CREATE TABLE COURSE1 (\n",
    "    Course_id INTEGER PRIMARY KEY,\n",
    "    CatalogID TEXT NOT NULL,\n",
    "    Course_title TEXT NOT NULL, \n",
    "    Description TEXT,\n",
    "    Program_id INTEGER,\n",
    "    Credits REAL,\n",
    "    Attributes TEXT,\n",
    "    Prerequisites TEXT,\n",
    "    Corequisites TEXT);\n",
    "\n",
    "INSERT INTO COURSE1(Course_id, CatalogID, Course_title, Description, Program_id, Credits, Attributes, Prerequisites, Corequisites)\n",
    "  SELECT Course_id, CatalogID, Course_title, Description, Program_id, Credits, Attributes, Prerequisites, Corequisites\n",
    "  FROM COURSE1_OLD;\n",
    "\n",
    "--COMMIT;\n",
    "\n",
    "PRAGMA foreign_keys=on;"
   ]
  },
  {
   "cell_type": "code",
   "execution_count": 12,
   "metadata": {},
   "outputs": [
    {
     "name": "stdout",
     "output_type": "stream",
     "text": [
      " * sqlite:///CourseDataWarehouse.db\n",
      "Done.\n"
     ]
    },
    {
     "data": {
      "text/html": [
       "<table>\n",
       "    <tr>\n",
       "        <th>cid</th>\n",
       "        <th>name</th>\n",
       "        <th>type</th>\n",
       "        <th>notnull</th>\n",
       "        <th>dflt_value</th>\n",
       "        <th>pk</th>\n",
       "    </tr>\n",
       "    <tr>\n",
       "        <td>0</td>\n",
       "        <td>Course_id</td>\n",
       "        <td>INTEGER</td>\n",
       "        <td>0</td>\n",
       "        <td>None</td>\n",
       "        <td>1</td>\n",
       "    </tr>\n",
       "    <tr>\n",
       "        <td>1</td>\n",
       "        <td>CatalogID</td>\n",
       "        <td>TEXT</td>\n",
       "        <td>1</td>\n",
       "        <td>None</td>\n",
       "        <td>0</td>\n",
       "    </tr>\n",
       "    <tr>\n",
       "        <td>2</td>\n",
       "        <td>Course_title</td>\n",
       "        <td>TEXT</td>\n",
       "        <td>1</td>\n",
       "        <td>None</td>\n",
       "        <td>0</td>\n",
       "    </tr>\n",
       "    <tr>\n",
       "        <td>3</td>\n",
       "        <td>Description</td>\n",
       "        <td>TEXT</td>\n",
       "        <td>0</td>\n",
       "        <td>None</td>\n",
       "        <td>0</td>\n",
       "    </tr>\n",
       "    <tr>\n",
       "        <td>4</td>\n",
       "        <td>Program_id</td>\n",
       "        <td>INTEGER</td>\n",
       "        <td>0</td>\n",
       "        <td>None</td>\n",
       "        <td>0</td>\n",
       "    </tr>\n",
       "    <tr>\n",
       "        <td>5</td>\n",
       "        <td>Credits</td>\n",
       "        <td>REAL</td>\n",
       "        <td>0</td>\n",
       "        <td>None</td>\n",
       "        <td>0</td>\n",
       "    </tr>\n",
       "    <tr>\n",
       "        <td>6</td>\n",
       "        <td>Attributes</td>\n",
       "        <td>TEXT</td>\n",
       "        <td>0</td>\n",
       "        <td>None</td>\n",
       "        <td>0</td>\n",
       "    </tr>\n",
       "    <tr>\n",
       "        <td>7</td>\n",
       "        <td>Prerequisites</td>\n",
       "        <td>TEXT</td>\n",
       "        <td>0</td>\n",
       "        <td>None</td>\n",
       "        <td>0</td>\n",
       "    </tr>\n",
       "    <tr>\n",
       "        <td>8</td>\n",
       "        <td>Corequisites</td>\n",
       "        <td>TEXT</td>\n",
       "        <td>0</td>\n",
       "        <td>None</td>\n",
       "        <td>0</td>\n",
       "    </tr>\n",
       "</table>"
      ],
      "text/plain": [
       "[(0, 'Course_id', 'INTEGER', 0, None, 1),\n",
       " (1, 'CatalogID', 'TEXT', 1, None, 0),\n",
       " (2, 'Course_title', 'TEXT', 1, None, 0),\n",
       " (3, 'Description', 'TEXT', 0, None, 0),\n",
       " (4, 'Program_id', 'INTEGER', 0, None, 0),\n",
       " (5, 'Credits', 'REAL', 0, None, 0),\n",
       " (6, 'Attributes', 'TEXT', 0, None, 0),\n",
       " (7, 'Prerequisites', 'TEXT', 0, None, 0),\n",
       " (8, 'Corequisites', 'TEXT', 0, None, 0)]"
      ]
     },
     "execution_count": 12,
     "metadata": {},
     "output_type": "execute_result"
    }
   ],
   "source": [
    "%%sql\n",
    "PRAGMA table_info(COURSE1);"
   ]
  },
  {
   "cell_type": "code",
   "execution_count": 13,
   "metadata": {},
   "outputs": [
    {
     "name": "stdout",
     "output_type": "stream",
     "text": [
      " * sqlite:///CourseDataWarehouse.db\n",
      "Done.\n"
     ]
    },
    {
     "data": {
      "text/plain": [
       "[]"
      ]
     },
     "execution_count": 13,
     "metadata": {},
     "output_type": "execute_result"
    }
   ],
   "source": [
    "%%sql\n",
    "DROP TABLE COURSE1_OLD"
   ]
  },
  {
   "cell_type": "code",
   "execution_count": 111,
   "metadata": {},
   "outputs": [
    {
     "name": "stdout",
     "output_type": "stream",
     "text": [
      " * sqlite:///CourseDataWarehouse.db\n",
      "Done.\n"
     ]
    },
    {
     "data": {
      "text/html": [
       "<table>\n",
       "    <tr>\n",
       "        <th>Course_id</th>\n",
       "        <th>CatalogID</th>\n",
       "        <th>Course_title</th>\n",
       "        <th>Description</th>\n",
       "        <th>Program_id</th>\n",
       "        <th>Credits</th>\n",
       "        <th>Attributes</th>\n",
       "        <th>Prerequisites</th>\n",
       "        <th>Corequisites</th>\n",
       "    </tr>\n",
       "    <tr>\n",
       "        <td>1766</td>\n",
       "        <td>BB 0139</td>\n",
       "        <td>CFP Capstone Course</td>\n",
       "        <td>This course will engage the student in critical thinking and decision-making about personal financial management topics in the context of the financial planning process. You will gain the hands-on experience of taking a client from start to finish with their personal financial plan.</td>\n",
       "        <td>8</td>\n",
       "        <td>0 Credits</td>\n",
       "        <td>None</td>\n",
       "        <td>BB 0130, BB 0132, BB 0134, BB 0136, BB 0138, BB 0140.</td>\n",
       "        <td>None</td>\n",
       "    </tr>\n",
       "</table>"
      ],
      "text/plain": [
       "[(1766, 'BB 0139', 'CFP Capstone Course', 'This course will engage the student in critical thinking and decision-making about personal financial management topics in the context of the financial planning process. You will gain the hands-on experience of taking a client from start to finish with their personal financial plan.', 8, '0 Credits', None, 'BB 0130, BB 0132, BB 0134, BB 0136, BB 0138, BB 0140.', None)]"
      ]
     },
     "execution_count": 111,
     "metadata": {},
     "output_type": "execute_result"
    }
   ],
   "source": [
    "%%sql\n",
    "SELECT * \n",
    "FROM COURSE1\n",
    "WHERE (Course_id = 1766)"
   ]
  },
  {
   "cell_type": "markdown",
   "metadata": {},
   "source": [
    "## Creating ***facts*** table CLASS_STATISTICS"
   ]
  },
  {
   "cell_type": "code",
   "execution_count": 103,
   "metadata": {},
   "outputs": [
    {
     "name": "stdout",
     "output_type": "stream",
     "text": [
      " * sqlite:///CourseDataWarehouse.db\n",
      "Done.\n",
      "Done.\n"
     ]
    },
    {
     "data": {
      "text/plain": [
       "[]"
      ]
     },
     "execution_count": 103,
     "metadata": {},
     "output_type": "execute_result"
    }
   ],
   "source": [
    "%%sql\n",
    "-- Class table\n",
    "DROP TABLE IF EXISTS CLASS_STATISTICS;\n",
    "CREATE TABLE CLASS_STATISTICS (\n",
    "    ClassStat_id INTEGER PRIMARY KEY,\n",
    "    Term_id INTEGER,\n",
    "    Instructor_id INTEGER,\n",
    "    Program_id INTEGER,\n",
    "    Course_id INTEGER,\n",
    "    Location_id INTEGER,\n",
    "    crn INTEGER,\n",
    "    Cap INTEGER,\n",
    "    Act INTEGER,\n",
    "    Rem INTEGER,\n",
    "    Meeting_times INTEGER,\n",
    "    Meeting_hours INTEGER,\n",
    "    --FOREIGN KEY (Term_id) REFERENCES TERM1(Term_id)\n",
    "    FOREIGN KEY (Instructor_id) REFERENCES INSTRUCTOR1(Instructor_id)\n",
    "    FOREIGN KEY (Program_id) REFERENCES PROGRAM1(Program_id)\n",
    "    FOREIGN KEY (Location_id) REFERENCES LOCATION1(Location_id)\n",
    "    FOREIGN KEY (Course_id) REFERENCES COURSE1(Course_id)\n",
    ");"
   ]
  },
  {
   "cell_type": "code",
   "execution_count": 105,
   "metadata": {},
   "outputs": [
    {
     "name": "stdout",
     "output_type": "stream",
     "text": [
      " * sqlite:///CourseDataWarehouse.db\n",
      "0 rows affected.\n",
      "12773 rows affected.\n"
     ]
    },
    {
     "data": {
      "text/plain": [
       "[]"
      ]
     },
     "execution_count": 105,
     "metadata": {},
     "output_type": "execute_result"
    }
   ],
   "source": [
    "%%sql\n",
    "DELETE FROM CLASS_STATISTICS;\n",
    "INSERT INTO CLASS_STATISTICS (Term_id, Instructor_id, Program_id, Course_id, Location_id, crn, Cap, Act, Rem, Meeting_times, Meeting_hours)\n",
    "    SELECT DISTINCT TERM1.Term_id, coursedata.CLASS.Instructor_id, coursedata.COURSE.Program_id, coursedata.COURSE.Course_id,\n",
    "            coursedata.MEETING.Location_id,  crn, Cap, Act, Rem,\n",
    "        \n",
    "            COUNT(coursedata.MEETING.Class_id) AS Meeting_times, \n",
    "           sum(strftime('%H:%M',coursedata.MEETING.End) - strftime('%H:%M',coursedata.MEETING.Start))AS Meeting_hours\n",
    "        \n",
    "    FROM coursedata.CLASS\n",
    "        LEFT JOIN coursedata.COURSE ON (coursedata.COURSE.CatalogID = coursedata.CLASS.CatalogID)\n",
    "        LEFT JOIN coursedata.MEETING ON (coursedata.CLASS.Class_id = coursedata.MEETING.Class_id)\n",
    "        LEFT JOIN TERM1 USING(Term)\n",
    "        WHERE coursedata.COURSE.Catalog_year <> '2018_2019'\n",
    "    GROUP BY coursedata.MEETING.Class_id\n",
    " \n",
    "        \n",
    "        \n",
    "       \n",
    "        \n",
    "        "
   ]
  },
  {
   "cell_type": "markdown",
   "metadata": {},
   "source": [
    "%%sql\n",
    "ALTER TABLE CLASS_STATISTICS\n",
    "ADD COLUMN Term_id;"
   ]
  },
  {
   "cell_type": "markdown",
   "metadata": {},
   "source": [
    "%%sql\n",
    "INSERT INTO CLASS_STATISTICS (Term_id)\n",
    "SELECT Term_id\n",
    "    FROM TERM1 \n",
    "    LEFT JOIN TERM1 ON (CLASS_STATISTICS.Term = TERM1.Term)"
   ]
  },
  {
   "cell_type": "code",
   "execution_count": 112,
   "metadata": {},
   "outputs": [
    {
     "name": "stdout",
     "output_type": "stream",
     "text": [
      " * sqlite:///CourseDataWarehouse.db\n",
      "Done.\n"
     ]
    },
    {
     "data": {
      "text/html": [
       "<table>\n",
       "    <tr>\n",
       "        <th>ClassStat_id</th>\n",
       "        <th>Term_id</th>\n",
       "        <th>Instructor_id</th>\n",
       "        <th>Program_id</th>\n",
       "        <th>Course_id</th>\n",
       "        <th>Location_id</th>\n",
       "        <th>crn</th>\n",
       "        <th>Cap</th>\n",
       "        <th>Act</th>\n",
       "        <th>Rem</th>\n",
       "        <th>Meeting_times</th>\n",
       "        <th>Meeting_hours</th>\n",
       "    </tr>\n",
       "    <tr>\n",
       "        <td>1</td>\n",
       "        <td>1</td>\n",
       "        <td>None</td>\n",
       "        <td>4</td>\n",
       "        <td>1</td>\n",
       "        <td>None</td>\n",
       "        <td>71858</td>\n",
       "        <td>0</td>\n",
       "        <td>0</td>\n",
       "        <td>0</td>\n",
       "        <td>0</td>\n",
       "        <td>None</td>\n",
       "    </tr>\n",
       "    <tr>\n",
       "        <td>2</td>\n",
       "        <td>1</td>\n",
       "        <td>744</td>\n",
       "        <td>1</td>\n",
       "        <td>113</td>\n",
       "        <td>99</td>\n",
       "        <td>70384</td>\n",
       "        <td>0</td>\n",
       "        <td>31</td>\n",
       "        <td>-31</td>\n",
       "        <td>26</td>\n",
       "        <td>26</td>\n",
       "    </tr>\n",
       "    <tr>\n",
       "        <td>3</td>\n",
       "        <td>1</td>\n",
       "        <td>744</td>\n",
       "        <td>1</td>\n",
       "        <td>113</td>\n",
       "        <td>99</td>\n",
       "        <td>70385</td>\n",
       "        <td>0</td>\n",
       "        <td>31</td>\n",
       "        <td>-31</td>\n",
       "        <td>26</td>\n",
       "        <td>26</td>\n",
       "    </tr>\n",
       "    <tr>\n",
       "        <td>4</td>\n",
       "        <td>1</td>\n",
       "        <td>744</td>\n",
       "        <td>1</td>\n",
       "        <td>113</td>\n",
       "        <td>99</td>\n",
       "        <td>70382</td>\n",
       "        <td>0</td>\n",
       "        <td>31</td>\n",
       "        <td>-31</td>\n",
       "        <td>26</td>\n",
       "        <td>26</td>\n",
       "    </tr>\n",
       "    <tr>\n",
       "        <td>5</td>\n",
       "        <td>1</td>\n",
       "        <td>871</td>\n",
       "        <td>1</td>\n",
       "        <td>113</td>\n",
       "        <td>107</td>\n",
       "        <td>70291</td>\n",
       "        <td>0</td>\n",
       "        <td>29</td>\n",
       "        <td>-29</td>\n",
       "        <td>26</td>\n",
       "        <td>26</td>\n",
       "    </tr>\n",
       "    <tr>\n",
       "        <td>6</td>\n",
       "        <td>1</td>\n",
       "        <td>871</td>\n",
       "        <td>1</td>\n",
       "        <td>113</td>\n",
       "        <td>107</td>\n",
       "        <td>70350</td>\n",
       "        <td>0</td>\n",
       "        <td>30</td>\n",
       "        <td>-30</td>\n",
       "        <td>26</td>\n",
       "        <td>26</td>\n",
       "    </tr>\n",
       "    <tr>\n",
       "        <td>7</td>\n",
       "        <td>1</td>\n",
       "        <td>871</td>\n",
       "        <td>1</td>\n",
       "        <td>113</td>\n",
       "        <td>105</td>\n",
       "        <td>70381</td>\n",
       "        <td>0</td>\n",
       "        <td>31</td>\n",
       "        <td>-31</td>\n",
       "        <td>26</td>\n",
       "        <td>26</td>\n",
       "    </tr>\n",
       "    <tr>\n",
       "        <td>8</td>\n",
       "        <td>1</td>\n",
       "        <td>829</td>\n",
       "        <td>1</td>\n",
       "        <td>113</td>\n",
       "        <td>107</td>\n",
       "        <td>70383</td>\n",
       "        <td>30</td>\n",
       "        <td>31</td>\n",
       "        <td>-1</td>\n",
       "        <td>26</td>\n",
       "        <td>26</td>\n",
       "    </tr>\n",
       "    <tr>\n",
       "        <td>9</td>\n",
       "        <td>1</td>\n",
       "        <td>447</td>\n",
       "        <td>1</td>\n",
       "        <td>113</td>\n",
       "        <td>105</td>\n",
       "        <td>70391</td>\n",
       "        <td>30</td>\n",
       "        <td>32</td>\n",
       "        <td>-2</td>\n",
       "        <td>26</td>\n",
       "        <td>26</td>\n",
       "    </tr>\n",
       "    <tr>\n",
       "        <td>10</td>\n",
       "        <td>1</td>\n",
       "        <td>447</td>\n",
       "        <td>1</td>\n",
       "        <td>113</td>\n",
       "        <td>105</td>\n",
       "        <td>71105</td>\n",
       "        <td>30</td>\n",
       "        <td>33</td>\n",
       "        <td>-3</td>\n",
       "        <td>26</td>\n",
       "        <td>26</td>\n",
       "    </tr>\n",
       "</table>"
      ],
      "text/plain": [
       "[(1, 1, None, 4, 1, None, 71858, 0, 0, 0, 0, None),\n",
       " (2, 1, 744, 1, 113, 99, 70384, 0, 31, -31, 26, 26),\n",
       " (3, 1, 744, 1, 113, 99, 70385, 0, 31, -31, 26, 26),\n",
       " (4, 1, 744, 1, 113, 99, 70382, 0, 31, -31, 26, 26),\n",
       " (5, 1, 871, 1, 113, 107, 70291, 0, 29, -29, 26, 26),\n",
       " (6, 1, 871, 1, 113, 107, 70350, 0, 30, -30, 26, 26),\n",
       " (7, 1, 871, 1, 113, 105, 70381, 0, 31, -31, 26, 26),\n",
       " (8, 1, 829, 1, 113, 107, 70383, 30, 31, -1, 26, 26),\n",
       " (9, 1, 447, 1, 113, 105, 70391, 30, 32, -2, 26, 26),\n",
       " (10, 1, 447, 1, 113, 105, 71105, 30, 33, -3, 26, 26)]"
      ]
     },
     "execution_count": 112,
     "metadata": {},
     "output_type": "execute_result"
    }
   ],
   "source": [
    "%%sql\n",
    "SELECT *\n",
    "FROM CLASS_STATISTICS\n",
    "LIMIT 10\n",
    "\n"
   ]
  },
  {
   "cell_type": "code",
   "execution_count": null,
   "metadata": {},
   "outputs": [],
   "source": [
    "%%sql \n",
    "SELECT *\n",
    "    FROM CLASS\n",
    "    WHERE (crn = 72340)\n"
   ]
  },
  {
   "cell_type": "code",
   "execution_count": null,
   "metadata": {},
   "outputs": [],
   "source": [
    "%%sql\n",
    "DELETE FROM CLASS_STATISTICS;\n",
    "INSERT INTO CLASS_STATISTICS (Term, Instructor_id, Program_id, Course_id, Location_id, crn, Cap, Act, Rem, Meeting_times, Meeting_hours)\n",
    "    SELECT DISTINCT coursedata.CLASS.Term, coursedata.CLASS.Instructor_id, coursedata.COURSE.Program_id, coursedata.COURSE.Course_id,\n",
    "            coursedata.MEETING.Location_id,  crn, Cap, Act, Rem,\n",
    "        \n",
    "            COUNT(coursedata.MEETING.Class_id) AS Meeting_times, \n",
    "           sum(strftime('%H:%M',coursedata.MEETING.End) - strftime('%H:%M',coursedata.MEETING.Start))AS Meeting_hours\n",
    "        \n",
    "    FROM coursedata.CLASS\n",
    "        LEFT JOIN coursedata.COURSE ON (coursedata.COURSE.CatalogID = coursedata.CLASS.CatalogID)\n",
    "        LEFT JOIN coursedata.MEETING ON (coursedata.CLASS.Class_id = coursedata.MEETING.Class_id)\n",
    "        WHERE coursedata.COURSE.Catalog_year <> '2018_2019'\n",
    "    GROUP BY coursedata.MEETING.Class_id\n",
    " \n",
    "        \n",
    "        \n",
    "       \n",
    "        "
   ]
  },
  {
   "cell_type": "markdown",
   "metadata": {},
   "source": [
    "%%sql\n",
    "--DELETE FROM CLASS_STATISTICS;\n",
    "--INSERT INTO CLASS_STATISTICS (Term_id, Instructor_id, Program_id, Location_id, Course_id, crn, Cap, Act, Rem)\n",
    "    SELECT DISTINCT coursedata.CLASS.Term, coursedata.CLASS.Instructor_id, coursedata.COURSE.Program_id, coursedata.COURSE.Course_id, coursedata.MEETING.Location_id,  crn, Cap, Act, Rem, COUNT(coursedata.MEETING.Class_id) AS Meeting_times \n",
    "    FROM coursedata.CLASS\n",
    "        LEFT JOIN coursedata.COURSE ON (coursedata.CLASS.Course_id = COURSE.Course_id)\n",
    "        LEFT JOIN coursedata.MEETING ON (CLASS.Class_id = MEETING.Class_id)\n",
    "        GROUP BY coursedata.MEETING.Class_id\n",
    "            LIMIT 500\n",
    "        \n",
    "       \n",
    "        "
   ]
  },
  {
   "cell_type": "markdown",
   "metadata": {},
   "source": [
    "%%sql\n",
    "--DELETE FROM CLASS_STATISTICS;\n",
    "--INSERT INTO CLASS_STATISTICS (Term, Instructor_id, Program_id, Course_id, Location_id, crn, Cap, Act, Rem, Meeting_times)\n",
    "    SELECT DISTINCT coursedata.CLASS.Term, coursedata.CLASS.Instructor_id, coursedata.COURSE.Program_id, coursedata.COURSE.Course_id, \n",
    "            coursedata.MEETING.Location_id,  crn, Cap, Act, Rem,\n",
    "            COUNT(coursedata.MEETING.Class_id) AS Meeting_times \n",
    "          --SUM(strftime('%H:%M',coursedata.MEETING.End) - strftime('%H:%M',coursedata.MEETING.Start)) AS Hours\n",
    "    FROM coursedata.CLASS\n",
    "         JOIN coursedata.COURSE ON (coursedata.CLASS.Course_id = coursedata.COURSE.Course_id)\n",
    "        LEFT JOIN coursedata.MEETING ON (coursedata.CLASS.Class_id = coursedata.MEETING.Class_id)\n",
    "     GROUP BY coursedata.MEETING.Class_id\n",
    " \n",
    "        \n",
    "    LIMIT 100\n",
    "    \n",
    "        \n",
    "       \n",
    "        "
   ]
  }
 ],
 "metadata": {
  "kernelspec": {
   "display_name": "Python 3",
   "language": "python",
   "name": "python3"
  },
  "language_info": {
   "codemirror_mode": {
    "name": "ipython",
    "version": 3
   },
   "file_extension": ".py",
   "mimetype": "text/x-python",
   "name": "python",
   "nbconvert_exporter": "python",
   "pygments_lexer": "ipython3",
   "version": "3.6.7"
  }
 },
 "nbformat": 4,
 "nbformat_minor": 4
}
