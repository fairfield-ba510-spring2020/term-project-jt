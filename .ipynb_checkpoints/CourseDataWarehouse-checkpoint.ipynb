{
 "cells": [
  {
   "cell_type": "code",
   "execution_count": 1,
   "metadata": {},
   "outputs": [
    {
     "data": {
      "text/plain": [
       "'Connected: @CourseDataWarehouse.db'"
      ]
     },
     "execution_count": 1,
     "metadata": {},
     "output_type": "execute_result"
    }
   ],
   "source": [
    "%load_ext sql\n",
    "import sqlite3\n",
    "%sql sqlite:///CourseDataWarehouse.db"
   ]
  },
  {
   "cell_type": "code",
   "execution_count": 2,
   "metadata": {},
   "outputs": [
    {
     "name": "stdout",
     "output_type": "stream",
     "text": [
      " * sqlite:///CourseDataWarehouse.db\n",
      "Done.\n"
     ]
    },
    {
     "data": {
      "text/plain": [
       "[]"
      ]
     },
     "execution_count": 2,
     "metadata": {},
     "output_type": "execute_result"
    }
   ],
   "source": [
    "%%sql\n",
    "ATTACH DATABASE 'CourseData.db' AS coursedata;"
   ]
  },
  {
   "cell_type": "code",
   "execution_count": 3,
   "metadata": {},
   "outputs": [
    {
     "name": "stdout",
     "output_type": "stream",
     "text": [
      " * sqlite:///CourseDataWarehouse.db\n",
      "Done.\n"
     ]
    },
    {
     "data": {
      "text/html": [
       "<table>\n",
       "    <tr>\n",
       "        <th>Class_id</th>\n",
       "        <th>Course_id</th>\n",
       "        <th>Section</th>\n",
       "        <th>Instructor_id</th>\n",
       "        <th>CatalogID</th>\n",
       "        <th>Course_title</th>\n",
       "        <th>Term</th>\n",
       "        <th>crn</th>\n",
       "        <th>Cap</th>\n",
       "        <th>Act</th>\n",
       "        <th>Rem</th>\n",
       "        <th>Timecode</th>\n",
       "    </tr>\n",
       "    <tr>\n",
       "        <td>1</td>\n",
       "        <td>None</td>\n",
       "        <td>C01</td>\n",
       "        <td>744</td>\n",
       "        <td>AC 0011</td>\n",
       "        <td>Introduction to Financial Accounting</td>\n",
       "        <td>Fall2014</td>\n",
       "        <td>70384</td>\n",
       "        <td>0</td>\n",
       "        <td>31</td>\n",
       "        <td>-31</td>\n",
       "        <td>[&#x27;TF 0800am-0915am 09/02-12/08 DSB 105&#x27;]</td>\n",
       "    </tr>\n",
       "    <tr>\n",
       "        <td>2</td>\n",
       "        <td>None</td>\n",
       "        <td>C02</td>\n",
       "        <td>744</td>\n",
       "        <td>AC 0011</td>\n",
       "        <td>Introduction to Financial Accounting</td>\n",
       "        <td>Fall2014</td>\n",
       "        <td>70385</td>\n",
       "        <td>0</td>\n",
       "        <td>31</td>\n",
       "        <td>-31</td>\n",
       "        <td>[&#x27;TF 0930am-1045am 09/02-12/08 DSB 105&#x27;]</td>\n",
       "    </tr>\n",
       "    <tr>\n",
       "        <td>3</td>\n",
       "        <td>None</td>\n",
       "        <td>C03</td>\n",
       "        <td>744</td>\n",
       "        <td>AC 0011</td>\n",
       "        <td>Introduction to Financial Accounting</td>\n",
       "        <td>Fall2014</td>\n",
       "        <td>70382</td>\n",
       "        <td>0</td>\n",
       "        <td>31</td>\n",
       "        <td>-31</td>\n",
       "        <td>[&#x27;TF 1230pm-0145pm 09/02-12/08 DSB 105&#x27;]</td>\n",
       "    </tr>\n",
       "    <tr>\n",
       "        <td>4</td>\n",
       "        <td>None</td>\n",
       "        <td>C04</td>\n",
       "        <td>871</td>\n",
       "        <td>AC 0011</td>\n",
       "        <td>Introduction to Financial Accounting</td>\n",
       "        <td>Fall2014</td>\n",
       "        <td>70291</td>\n",
       "        <td>0</td>\n",
       "        <td>29</td>\n",
       "        <td>-29</td>\n",
       "        <td>[&#x27;MR 1100am-1215pm 09/02-12/08 DSB 111&#x27;]</td>\n",
       "    </tr>\n",
       "    <tr>\n",
       "        <td>5</td>\n",
       "        <td>None</td>\n",
       "        <td>C05</td>\n",
       "        <td>871</td>\n",
       "        <td>AC 0011</td>\n",
       "        <td>Introduction to Financial Accounting</td>\n",
       "        <td>Fall2014</td>\n",
       "        <td>70350</td>\n",
       "        <td>0</td>\n",
       "        <td>30</td>\n",
       "        <td>-30</td>\n",
       "        <td>[&#x27;MR 1230pm-0145pm 09/02-12/08 DSB 111&#x27;]</td>\n",
       "    </tr>\n",
       "    <tr>\n",
       "        <td>6</td>\n",
       "        <td>None</td>\n",
       "        <td>C06</td>\n",
       "        <td>871</td>\n",
       "        <td>AC 0011</td>\n",
       "        <td>Introduction to Financial Accounting</td>\n",
       "        <td>Fall2014</td>\n",
       "        <td>70381</td>\n",
       "        <td>0</td>\n",
       "        <td>31</td>\n",
       "        <td>-31</td>\n",
       "        <td>[&#x27;MR 0330pm-0445pm 09/02-12/08 DSB 110A&#x27;]</td>\n",
       "    </tr>\n",
       "    <tr>\n",
       "        <td>7</td>\n",
       "        <td>None</td>\n",
       "        <td>G</td>\n",
       "        <td>829</td>\n",
       "        <td>AC 0011</td>\n",
       "        <td>Introduction to Financial Accounting</td>\n",
       "        <td>Fall2014</td>\n",
       "        <td>70383</td>\n",
       "        <td>30</td>\n",
       "        <td>31</td>\n",
       "        <td>-1</td>\n",
       "        <td>[&#x27;MR 0930am-1045am 09/02-12/08 DSB 111&#x27;]</td>\n",
       "    </tr>\n",
       "    <tr>\n",
       "        <td>8</td>\n",
       "        <td>None</td>\n",
       "        <td>H</td>\n",
       "        <td>447</td>\n",
       "        <td>AC 0011</td>\n",
       "        <td>Introduction to Financial Accounting</td>\n",
       "        <td>Fall2014</td>\n",
       "        <td>70391</td>\n",
       "        <td>30</td>\n",
       "        <td>32</td>\n",
       "        <td>-2</td>\n",
       "        <td>[&#x27;TF 0930am-1045am 09/02-12/08 DSB 110A&#x27;]</td>\n",
       "    </tr>\n",
       "    <tr>\n",
       "        <td>9</td>\n",
       "        <td>None</td>\n",
       "        <td>I</td>\n",
       "        <td>447</td>\n",
       "        <td>AC 0011</td>\n",
       "        <td>Introduction to Financial Accounting</td>\n",
       "        <td>Fall2014</td>\n",
       "        <td>71105</td>\n",
       "        <td>30</td>\n",
       "        <td>33</td>\n",
       "        <td>-3</td>\n",
       "        <td>[&#x27;TF 1100am-1215pm 09/02-12/08 DSB 110A&#x27;]</td>\n",
       "    </tr>\n",
       "    <tr>\n",
       "        <td>10</td>\n",
       "        <td>None</td>\n",
       "        <td>J</td>\n",
       "        <td>447</td>\n",
       "        <td>AC 0011</td>\n",
       "        <td>Introduction to Financial Accounting</td>\n",
       "        <td>Fall2014</td>\n",
       "        <td>71123</td>\n",
       "        <td>30</td>\n",
       "        <td>32</td>\n",
       "        <td>-2</td>\n",
       "        <td>[&#x27;TF 0200pm-0315pm 09/02-12/08 DSB 105&#x27;]</td>\n",
       "    </tr>\n",
       "</table>"
      ],
      "text/plain": [
       "[(1, None, 'C01', 744, 'AC 0011', 'Introduction to Financial Accounting', 'Fall2014', 70384, 0, 31, -31, \"['TF 0800am-0915am 09/02-12/08 DSB 105']\"),\n",
       " (2, None, 'C02', 744, 'AC 0011', 'Introduction to Financial Accounting', 'Fall2014', 70385, 0, 31, -31, \"['TF 0930am-1045am 09/02-12/08 DSB 105']\"),\n",
       " (3, None, 'C03', 744, 'AC 0011', 'Introduction to Financial Accounting', 'Fall2014', 70382, 0, 31, -31, \"['TF 1230pm-0145pm 09/02-12/08 DSB 105']\"),\n",
       " (4, None, 'C04', 871, 'AC 0011', 'Introduction to Financial Accounting', 'Fall2014', 70291, 0, 29, -29, \"['MR 1100am-1215pm 09/02-12/08 DSB 111']\"),\n",
       " (5, None, 'C05', 871, 'AC 0011', 'Introduction to Financial Accounting', 'Fall2014', 70350, 0, 30, -30, \"['MR 1230pm-0145pm 09/02-12/08 DSB 111']\"),\n",
       " (6, None, 'C06', 871, 'AC 0011', 'Introduction to Financial Accounting', 'Fall2014', 70381, 0, 31, -31, \"['MR 0330pm-0445pm 09/02-12/08 DSB 110A']\"),\n",
       " (7, None, 'G', 829, 'AC 0011', 'Introduction to Financial Accounting', 'Fall2014', 70383, 30, 31, -1, \"['MR 0930am-1045am 09/02-12/08 DSB 111']\"),\n",
       " (8, None, 'H', 447, 'AC 0011', 'Introduction to Financial Accounting', 'Fall2014', 70391, 30, 32, -2, \"['TF 0930am-1045am 09/02-12/08 DSB 110A']\"),\n",
       " (9, None, 'I', 447, 'AC 0011', 'Introduction to Financial Accounting', 'Fall2014', 71105, 30, 33, -3, \"['TF 1100am-1215pm 09/02-12/08 DSB 110A']\"),\n",
       " (10, None, 'J', 447, 'AC 0011', 'Introduction to Financial Accounting', 'Fall2014', 71123, 30, 32, -2, \"['TF 0200pm-0315pm 09/02-12/08 DSB 105']\")]"
      ]
     },
     "execution_count": 3,
     "metadata": {},
     "output_type": "execute_result"
    }
   ],
   "source": [
    "%%sql\n",
    "SELECT *\n",
    "    FROM coursedata.CLASS\n",
    "    LIMIT 10"
   ]
  }
 ],
 "metadata": {
  "kernelspec": {
   "display_name": "Python 3",
   "language": "python",
   "name": "python3"
  },
  "language_info": {
   "codemirror_mode": {
    "name": "ipython",
    "version": 3
   },
   "file_extension": ".py",
   "mimetype": "text/x-python",
   "name": "python",
   "nbconvert_exporter": "python",
   "pygments_lexer": "ipython3",
   "version": "3.6.7"
  }
 },
 "nbformat": 4,
 "nbformat_minor": 4
}
