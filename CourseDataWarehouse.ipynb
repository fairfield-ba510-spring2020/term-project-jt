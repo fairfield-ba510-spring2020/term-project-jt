{
 "cells": [
  {
   "cell_type": "code",
   "execution_count": 1,
   "metadata": {},
   "outputs": [
    {
     "data": {
      "text/plain": [
       "'Connected: @CourseDataWarehouse.db'"
      ]
     },
     "execution_count": 1,
     "metadata": {},
     "output_type": "execute_result"
    }
   ],
   "source": [
    "%load_ext sql\n",
    "import sqlite3\n",
    "%sql sqlite:///CourseDataWarehouse.db"
   ]
  },
  {
   "cell_type": "code",
   "execution_count": 2,
   "metadata": {},
   "outputs": [
    {
     "name": "stdout",
     "output_type": "stream",
     "text": [
      " * sqlite:///CourseDataWarehouse.db\n",
      "Done.\n"
     ]
    },
    {
     "data": {
      "text/plain": [
       "[]"
      ]
     },
     "execution_count": 2,
     "metadata": {},
     "output_type": "execute_result"
    }
   ],
   "source": [
    "%%sql\n",
    "ATTACH DATABASE 'CourseData.db' AS coursedata;"
   ]
  },
  {
   "cell_type": "code",
   "execution_count": 3,
   "metadata": {},
   "outputs": [
    {
     "name": "stdout",
     "output_type": "stream",
     "text": [
      " * sqlite:///CourseDataWarehouse.db\n",
      "Done.\n"
     ]
    },
    {
     "data": {
      "text/html": [
       "<table>\n",
       "    <tr>\n",
       "        <th>Class_id</th>\n",
       "        <th>Course_id</th>\n",
       "        <th>Section</th>\n",
       "        <th>Instructor_id</th>\n",
       "        <th>CatalogID</th>\n",
       "        <th>Course_title</th>\n",
       "        <th>Term</th>\n",
       "        <th>crn</th>\n",
       "        <th>Cap</th>\n",
       "        <th>Act</th>\n",
       "        <th>Rem</th>\n",
       "        <th>Timecode</th>\n",
       "    </tr>\n",
       "    <tr>\n",
       "        <td>1</td>\n",
       "        <td>None</td>\n",
       "        <td>C01</td>\n",
       "        <td>744</td>\n",
       "        <td>AC 0011</td>\n",
       "        <td>Introduction to Financial Accounting</td>\n",
       "        <td>Fall2014</td>\n",
       "        <td>70384</td>\n",
       "        <td>0</td>\n",
       "        <td>31</td>\n",
       "        <td>-31</td>\n",
       "        <td>[&#x27;TF 0800am-0915am 09/02-12/08 DSB 105&#x27;]</td>\n",
       "    </tr>\n",
       "    <tr>\n",
       "        <td>2</td>\n",
       "        <td>None</td>\n",
       "        <td>C02</td>\n",
       "        <td>744</td>\n",
       "        <td>AC 0011</td>\n",
       "        <td>Introduction to Financial Accounting</td>\n",
       "        <td>Fall2014</td>\n",
       "        <td>70385</td>\n",
       "        <td>0</td>\n",
       "        <td>31</td>\n",
       "        <td>-31</td>\n",
       "        <td>[&#x27;TF 0930am-1045am 09/02-12/08 DSB 105&#x27;]</td>\n",
       "    </tr>\n",
       "</table>"
      ],
      "text/plain": [
       "[(1, None, 'C01', 744, 'AC 0011', 'Introduction to Financial Accounting', 'Fall2014', 70384, 0, 31, -31, \"['TF 0800am-0915am 09/02-12/08 DSB 105']\"),\n",
       " (2, None, 'C02', 744, 'AC 0011', 'Introduction to Financial Accounting', 'Fall2014', 70385, 0, 31, -31, \"['TF 0930am-1045am 09/02-12/08 DSB 105']\")]"
      ]
     },
     "execution_count": 3,
     "metadata": {},
     "output_type": "execute_result"
    }
   ],
   "source": [
    "%%sql\n",
    "SELECT *\n",
    "    FROM coursedata.CLASS\n",
    "    LIMIT 2"
   ]
  },
  {
   "cell_type": "code",
   "execution_count": null,
   "metadata": {},
   "outputs": [],
   "source": [
    "%%sql\n",
    "\n",
    "-- Program table\n",
    "DROP TABLE IF EXISTS PROGRAM;\n",
    "CREATE TABLE PROGRAM (\n",
    "    Program_id INTEGER PRIMARY KEY,\n",
    "    Program_code TEXT NOT NULL,\n",
    "    Program_name TEXT NOT NULL\n",
    ");\n",
    "\n",
    "-- Location table\n",
    "DROP TABLE IF EXISTS LOCATION;\n",
    "CREATE TABLE LOCATION (\n",
    "    Location_id INTEGER PRIMARY KEY,\n",
    "    Location TEXT\n",
    ");\n",
    "\n",
    "-- Instructor table\n",
    "DROP TABLE IF EXISTS INSTRUCTOR;\n",
    "CREATE TABLE INSTRUCTOR (\n",
    "    Instructor_id INTEGER PRIMARY KEY,\n",
    "    Name TEXT NOT NULL,\n",
    "    Phone INTEGER,\n",
    "    Email TEXT\n",
    ");\n",
    "\n",
    "-- Course table\n",
    "DROP TABLE IF EXISTS COURSE;\n",
    "CREATE TABLE COURSE (\n",
    "    Course_id INTEGER PRIMARY KEY,\n",
    "    CatalogID TEXT NOT NULL,\n",
    "    Course_title TEXT NOT NULL, \n",
    "    Description TEXT,\n",
    "    Credits REAL,\n",
    "    Attributes TEXT,\n",
    "    Prerequisites TEXT,\n",
    "    Corequisites TEXT,\n",
    "    Fees TEXT\n",
    ");\n",
    "\n",
    "-- Class table\n",
    "DROP TABLE IF EXISTS CLASS;\n",
    "CREATE TABLE CLASS (\n",
    "    Class_id INTEGER PRIMARY KEY,\n",
    "    Course_id INTEGER,\n",
    "    Instructor_id INTEGER,\n",
    "    Location_id INTEGER,\n",
    "    Program_id INTEGER,\n",
    "    Section TEXT NOT NULL,\n",
    "    Catalog_year TEXT NOT NULL,\n",
    "    Term TEXT NOT NULL, \n",
    "    Start TEXT NOT NULL,\n",
    "    End TEXT NOT NULL,\n",
    "    Day TEXT NOT NULL,\n",
    "    Cap INTEGER NOT NULL,\n",
    "    Act INTEGER NOT NULL,\n",
    "    Rem INTEGER NOT NULL,\n",
    "    FOREIGN KEY (Course_id) REFERENCES COURSE(Course_id)\n",
    "    FOREIGN KEY (Instructor_id) REFERENCES INSTRUCTOR(Instuctor_id)\n",
    "    FOREIGN KEY (Location_id) REFERENCES LOCATION(Location_id)\n",
    "    FOREIGN KEY (Program_id) REFERENCES Program(Program_id)\n",
    ");\n",
    "\n"
   ]
  },
  {
   "cell_type": "code",
   "execution_count": null,
   "metadata": {},
   "outputs": [],
   "source": []
  }
 ],
 "metadata": {
  "kernelspec": {
   "display_name": "Python 3",
   "language": "python",
   "name": "python3"
  },
  "language_info": {
   "codemirror_mode": {
    "name": "ipython",
    "version": 3
   },
   "file_extension": ".py",
   "mimetype": "text/x-python",
   "name": "python",
   "nbconvert_exporter": "python",
   "pygments_lexer": "ipython3",
   "version": "3.6.7"
  }
 },
 "nbformat": 4,
 "nbformat_minor": 4
}
