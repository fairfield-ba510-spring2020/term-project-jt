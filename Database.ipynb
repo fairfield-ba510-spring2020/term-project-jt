{
 "cells": [
  {
   "cell_type": "code",
   "execution_count": 2,
   "metadata": {},
   "outputs": [],
   "source": [
    "%load_ext sql\n",
    "import pandas as pd\n",
    "import sqlite3"
   ]
  },
  {
   "cell_type": "markdown",
   "metadata": {},
   "source": [
    "## Create database"
   ]
  },
  {
   "cell_type": "code",
   "execution_count": 3,
   "metadata": {},
   "outputs": [],
   "source": [
    "%sql sqlite:///CourseData.db\n",
    "conn = sqlite3.connect('CourseData.db')"
   ]
  },
  {
   "cell_type": "markdown",
   "metadata": {},
   "source": [
    "## Create table"
   ]
  },
  {
   "cell_type": "code",
   "execution_count": 4,
   "metadata": {},
   "outputs": [
    {
     "name": "stdout",
     "output_type": "stream",
     "text": [
      " * sqlite:///CourseData.db\n",
      "Done.\n",
      "Done.\n",
      "Done.\n",
      "Done.\n",
      "Done.\n",
      "Done.\n",
      "Done.\n",
      "Done.\n",
      "Done.\n",
      "Done.\n",
      "Done.\n",
      "Done.\n"
     ]
    },
    {
     "data": {
      "text/plain": [
       "[]"
      ]
     },
     "execution_count": 4,
     "metadata": {},
     "output_type": "execute_result"
    }
   ],
   "source": [
    "%%sql\n",
    "\n",
    "-- Program table\n",
    "DROP TABLE IF EXISTS PROGRAM;\n",
    "CREATE TABLE PROGRAM (\n",
    "    Program_id INTEGER PRIMARY KEY,\n",
    "    Program_code TEXT NOT NULL,\n",
    "    Program_name TEXT NOT NULL\n",
    ");\n",
    "\n",
    "-- Location table\n",
    "DROP TABLE IF EXISTS LOCATION;\n",
    "CREATE TABLE LOCATION (\n",
    "    Location_id INTEGER PRIMARY KEY,\n",
    "    Capacity INTEGER,\n",
    "    Building TEXT,\n",
    "    Room TEXT\n",
    ");\n",
    "\n",
    "\n",
    "-- Course table\n",
    "DROP TABLE IF EXISTS COURSE;\n",
    "CREATE TABLE COURSE (\n",
    "    Course_id INTEGER PRIMARY KEY, \n",
    "    Class_id INTEGER NOT NULL,\n",
    "    Program_id INTEGER NOT NULL,\n",
    "    CatalogID TEXT NOT NULL,\n",
    "    Course_title TEXT NOT NULL, \n",
    "    Description TEXT,\n",
    "    Credits REAL,\n",
    "    Attributes TEXT,\n",
    "    Prerequisites TEXT,\n",
    "    Corequisites TEXT,\n",
    "    Fees TEXT,\n",
    "    FOREIGN KEY (Program_id) REFERENCES PROGRAM(Program_id),\n",
    "    FOREIGN KEY (Class_id) REFERENCES CLASS(Class_id)\n",
    ");\n",
    "\n",
    "\n",
    "-- Instructor table\n",
    "DROP TABLE IF EXISTS INSTRUCTOR;\n",
    "CREATE TABLE INSTRUCTOR (\n",
    "    Instructor_id INTEGER PRIMARY KEY,\n",
    "    Name TEXT NOT NULL,\n",
    "    Phone INTEGER,\n",
    "    Email TEXT\n",
    ");\n",
    "\n",
    "-- Class table\n",
    "DROP TABLE IF EXISTS CLASS;\n",
    "CREATE TABLE CLASS (\n",
    "    Class_id INTEGER PRIMARY KEY,\n",
    "    Course_id INTEGER NOT NULL,\n",
    "    Section_id TEXT NOT NULL,\n",
    "    Instructor_id INTEGER,\n",
    "    Term TEXT NOT NULL, \n",
    "    Crncode INTEGER NOT NULL,\n",
    "    Cap INTEGER NOT NULL,\n",
    "    Act INTEGER NOT NULL,\n",
    "    Rem INTEGER NOT NULL,\n",
    "    Timecode TEXT,\n",
    "    FOREIGN KEY (Course_id) REFERENCES COURSE(Course_id)\n",
    "    FOREIGN KEY (Instructor_id) REFERENCES INSTRUCTOR(Instuctor_id)\n",
    ");\n",
    "\n",
    "-- Meeting table\n",
    "DROP TABLE IF EXISTS MEETING;\n",
    "CREATE TABLE MEETING (\n",
    "    Meeting_id INTEGER PRIMARY KEY,\n",
    "    Class_id INTEGER NOT NULL,\n",
    "    Location_id INTEGER NOT NULL,\n",
    "    Start TEXT NOT NULL,\n",
    "    End TEXT NOT NULL,\n",
    "    Day TEXT NOT NULL,\n",
    "    FOREIGN KEY (Class_id) REFERENCES CLASS(Class_id),\n",
    "    FOREIGN KEY (Location_id) REFERENCES LOCATION(Location_id)\n",
    ");\n",
    "\n",
    "\n"
   ]
  },
  {
   "cell_type": "code",
   "execution_count": null,
   "metadata": {},
   "outputs": [],
   "source": []
  }
 ],
 "metadata": {
  "kernelspec": {
   "display_name": "Python 3",
   "language": "python",
   "name": "python3"
  },
  "language_info": {
   "codemirror_mode": {
    "name": "ipython",
    "version": 3
   },
   "file_extension": ".py",
   "mimetype": "text/x-python",
   "name": "python",
   "nbconvert_exporter": "python",
   "pygments_lexer": "ipython3",
   "version": "3.6.7"
  }
 },
 "nbformat": 4,
 "nbformat_minor": 4
}
